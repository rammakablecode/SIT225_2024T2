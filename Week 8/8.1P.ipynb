{
 "cells": [
  {
   "cell_type": "code",
   "execution_count": null,
   "id": "25a2c5e2-4607-41d6-a609-74f9efa0ae4a",
   "metadata": {},
   "outputs": [],
   "source": [
    "# Import necessary libraries\n",
    "import pandas as pd\n",
    "import matplotlib.pyplot as plt\n",
    "\n",
    "# Load CSV file with accelerometer data\n",
    "data = pd.read_csv('accelerometer_data.csv', names=['Timestamp', 'X', 'Y', 'Z'])\n",
    "\n",
    "# Convert timestamp to datetime for easier plotting\n",
    "data['Timestamp'] = pd.to_datetime(data['Timestamp'])\n",
    "\n",
    "# Plot the data\n",
    "plt.figure(figsize=(10, 6))\n",
    "plt.plot(data['Timestamp'], data['X'], label='X-axis')\n",
    "plt.plot(data['Timestamp'], data['Y'], label='Y-axis')\n",
    "plt.plot(data['Timestamp'], data['Z'], label='Z-axis')\n",
    "plt.xlabel('Time')\n",
    "plt.ylabel('Accelerometer Readings')\n",
    "plt.title('Accelerometer X, Y, Z Data Over Time')\n",
    "plt.legend()\n",
    "plt.show()\n",
    "\n",
    "# Save filtered data\n",
    "filtered_data = data[(data['X'] < 50) & (data['Y'] < 50)]  # Example filtering, adjust accordingly\n",
    "filtered_data.to_csv('filtered_accelerometer_data.csv', index=False)\n"
   ]
  },
  {
   "cell_type": "code",
   "execution_count": null,
   "id": "f2acb57c-8776-4ff5-930a-010bfca4248f",
   "metadata": {},
   "outputs": [],
   "source": []
  }
 ],
 "metadata": {
  "kernelspec": {
   "display_name": "Python 3 (ipykernel)",
   "language": "python",
   "name": "python3"
  },
  "language_info": {
   "codemirror_mode": {
    "name": "ipython",
    "version": 3
   },
   "file_extension": ".py",
   "mimetype": "text/x-python",
   "name": "python",
   "nbconvert_exporter": "python",
   "pygments_lexer": "ipython3",
   "version": "3.11.7"
  }
 },
 "nbformat": 4,
 "nbformat_minor": 5
}
