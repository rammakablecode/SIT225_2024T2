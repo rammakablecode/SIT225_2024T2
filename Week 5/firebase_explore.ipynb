{
 "cells": [
  {
   "cell_type": "code",
   "execution_count": 11,
   "metadata": {},
   "outputs": [
    {
     "name": "stdout",
     "output_type": "stream",
     "text": [
      "s223496576 Rammaka Iddamalgoda\n"
     ]
    }
   ],
   "source": [
    "# Fill in student ID and name\n",
    "# \n",
    "student_id = \"s223496576\"\n",
    "student_first_last_name = \"Rammaka Iddamalgoda\"\n",
    "print(student_id, student_first_last_name)"
   ]
  },
  {
   "cell_type": "code",
   "execution_count": 13,
   "metadata": {},
   "outputs": [
    {
     "name": "stdout",
     "output_type": "stream",
     "text": [
      "{'Book1': {'Author': 'J.R.R. Tolkien', 'Genre': 'Epic fantasy', 'Price': 100, 'Title': 'The Fellowship of the Ring'}, 'Book2': {'Author': 'J.R.R. Tolkien', 'Genre': 'Epic fantasy', 'Price': 100, 'Title': 'The Two Towers'}, 'Book3': {'Author': 'J.R.R. Tolkien', 'Genre': 'Epic fantasy', 'Price': 100, 'Title': 'The Return of the King'}, 'Book4': {'Author': 'Paulo Coelho', 'Genre': 'Fiction', 'Price': 100, 'Title': 'Brida'}}\n",
      "<class 'dict'>\n",
      "Book1: {'Author': 'J.R.R. Tolkien', 'Genre': 'Epic fantasy', 'Price': 100, 'Title': 'The Fellowship of the Ring'}\n",
      "Book2: {'Author': 'J.R.R. Tolkien', 'Genre': 'Epic fantasy', 'Price': 100, 'Title': 'The Two Towers'}\n",
      "Book3: {'Author': 'J.R.R. Tolkien', 'Genre': 'Epic fantasy', 'Price': 100, 'Title': 'The Return of the King'}\n",
      "Book4: {'Author': 'Paulo Coelho', 'Genre': 'Fiction', 'Price': 100, 'Title': 'Brida'}\n",
      "{'Author': 'J.R.R. Tolkien', 'Genre': 'Epic fantasy', 'Price': 100, 'Title': 'The Fellowship of the Ring'}\n"
     ]
    }
   ],
   "source": [
    "import firebase_admin\n",
    "from firebase_admin import credentials, db\n",
    "\n",
    "# Initialize Firebase Admin SDK with the correct certificate path\n",
    "cred_obj = firebase_admin.credentials.Certificate(\n",
    "    r'C:\\Users\\ramma\\Downloads\\sit225-ri-firebase-adminsdk-octoc-af69f7a7ab.json'\n",
    ")\n",
    "\n",
    "# Initialize Firebase app (ensure only one initialization)\n",
    "if not firebase_admin._apps:\n",
    "    default_app = firebase_admin.initialize_app(cred_obj, {\n",
    "        'databaseURL': 'https://sit225-ri-default-rtdb.firebaseio.com/'\n",
    "    })\n",
    "\n",
    "# A reference point is always needed to be set before any operation is carried out on a database.\n",
    "ref = db.reference(\"/\")\n",
    "\n",
    "# JSON format data (key/value pair)\n",
    "data = {\n",
    "    \"Book1\": {\n",
    "        \"Title\": \"The Fellowship of the Ring\",\n",
    "        \"Author\": \"J.R.R. Tolkien\",\n",
    "        \"Genre\": \"Epic fantasy\",\n",
    "        \"Price\": 100\n",
    "    },\n",
    "    \"Book2\": {\n",
    "        \"Title\": \"The Two Towers\",\n",
    "        \"Author\": \"J.R.R. Tolkien\",\n",
    "        \"Genre\": \"Epic fantasy\",\n",
    "        \"Price\": 100    \n",
    "    },\n",
    "    \"Book3\": {\n",
    "        \"Title\": \"The Return of the King\",\n",
    "        \"Author\": \"J.R.R. Tolkien\",\n",
    "        \"Genre\": \"Epic fantasy\",\n",
    "        \"Price\": 100\n",
    "    },\n",
    "    \"Book4\": {\n",
    "        \"Title\": \"Brida\",\n",
    "        \"Author\": \"Paulo Coelho\",\n",
    "        \"Genre\": \"Fiction\",\n",
    "        \"Price\": 100\n",
    "    }\n",
    "}\n",
    "\n",
    "# JSON format data is set (overwritten) to the reference point set at /, which is the root node.\n",
    "ref.set(data)\n",
    "\n",
    "# Query all data under the ref\n",
    "books = ref.get()\n",
    "print(books)\n",
    "print(type(books))\n",
    "\n",
    "# Print each item separately\n",
    "for key, value in books.items():\n",
    "    print(f\"{key}: {value}\")\n",
    "\n",
    "# Query a specific book (/Book1)\n",
    "ref = db.reference(\"/Book1\")\n",
    "book1 = ref.get()\n",
    "print(book1)\n",
    "\n",
    "# Write data using push()\n",
    "ref = db.reference(\"/Books/Best_Sellers\")\n",
    "for key, value in data.items():\n",
    "    ref.push().set(value)\n",
    "\n",
    "# Update data (reducing price for Tolkien books)\n",
    "ref = db.reference(\"/Books/Best_Sellers/\")\n",
    "best_sellers = ref.get()\n",
    "for key, value in best_sellers.items():\n",
    "    if value[\"Author\"] == \"J.R.R. Tolkien\":\n",
    "        ref.child(key).update({\"Price\": 80})\n",
    "\n",
    "# Delete all Tolkien's books from the Best Sellers list\n",
    "ref = db.reference(\"/Books/Best_Sellers/\")\n",
    "for key, value in best_sellers.items():\n",
    "    if value[\"Author\"] == \"J.R.R. Tolkien\":\n",
    "        ref.child(key).set({})\n"
   ]
  },
  {
   "cell_type": "code",
   "execution_count": 14,
   "metadata": {},
   "outputs": [
    {
     "name": "stdout",
     "output_type": "stream",
     "text": [
      "{'Book1': {'Author': 'J.R.R. Tolkien', 'Genre': 'Epic fantasy', 'Price': 100, 'Title': 'The Fellowship of the Ring'}, 'Book2': {'Author': 'J.R.R. Tolkien', 'Genre': 'Epic fantasy', 'Price': 100, 'Title': 'The Two Towers'}, 'Book3': {'Author': 'J.R.R. Tolkien', 'Genre': 'Epic fantasy', 'Price': 100, 'Title': 'The Return of the King'}, 'Book4': {'Author': 'Paulo Coelho', 'Genre': 'Fiction', 'Price': 100, 'Title': 'Brida'}, 'Books': {'Best_Sellers': {'-O8LLuZGE4Tvg7RdVbAC': {'Author': 'Paulo Coelho', 'Genre': 'Fiction', 'Price': 100, 'Title': 'Brida'}}}}\n",
      "<class 'dict'>\n",
      "Book1: {'Author': 'J.R.R. Tolkien', 'Genre': 'Epic fantasy', 'Price': 100, 'Title': 'The Fellowship of the Ring'}\n",
      "Book2: {'Author': 'J.R.R. Tolkien', 'Genre': 'Epic fantasy', 'Price': 100, 'Title': 'The Two Towers'}\n",
      "Book3: {'Author': 'J.R.R. Tolkien', 'Genre': 'Epic fantasy', 'Price': 100, 'Title': 'The Return of the King'}\n",
      "Book4: {'Author': 'Paulo Coelho', 'Genre': 'Fiction', 'Price': 100, 'Title': 'Brida'}\n",
      "Books: {'Best_Sellers': {'-O8LLuZGE4Tvg7RdVbAC': {'Author': 'Paulo Coelho', 'Genre': 'Fiction', 'Price': 100, 'Title': 'Brida'}}}\n",
      "{'Author': 'J.R.R. Tolkien', 'Genre': 'Epic fantasy', 'Price': 100, 'Title': 'The Fellowship of the Ring'}\n"
     ]
    }
   ],
   "source": [
    "ref = db.reference(\"/\")  # set ref point\n",
    "\n",
    "# query all data under the ref\n",
    "books = ref.get()  \n",
    "print(books)\n",
    "print(type(books))\n",
    "\n",
    "# print each item separately\n",
    "for key, value in books.items():\n",
    "    print(f\"{key}: {value}\")\n",
    "\n",
    "\n",
    "# Query /Book1\n",
    "ref = db.reference(\"/Book1\")\n",
    "books = ref.get()\n",
    "print(books)"
   ]
  },
  {
   "cell_type": "code",
   "execution_count": 15,
   "metadata": {},
   "outputs": [
    {
     "name": "stdout",
     "output_type": "stream",
     "text": [
      "{'-O8LLuZGE4Tvg7RdVbAC': {'Author': 'Paulo Coelho', 'Genre': 'Fiction', 'Price': 100, 'Title': 'Brida'}}\n"
     ]
    }
   ],
   "source": [
    "# Update data\n",
    "# \n",
    "# Requirement: The price of the books by \n",
    "# J. R. R. Tolkien is reduced to 80 units to \n",
    "# offer a discount.\n",
    "# \n",
    "ref = db.reference(\"/Books/Best_Sellers/\")\n",
    "best_sellers = ref.get()\n",
    "print(best_sellers)\n",
    "for key, value in best_sellers.items():\n",
    "\tif(value[\"Author\"] == \"J.R.R. Tolkien\"):\n",
    "\t\tvalue[\"Price\"] = 90\n",
    "\t\tref.child(key).update({\"Price\":80})"
   ]
  },
  {
   "cell_type": "code",
   "execution_count": 16,
   "metadata": {},
   "outputs": [
    {
     "name": "stdout",
     "output_type": "stream",
     "text": [
      "{'-O8LLuZGE4Tvg7RdVbAC': {'Author': 'Paulo Coelho', 'Genre': 'Fiction', 'Price': 100, 'Title': 'Brida'}}\n",
      "<class 'dict'>\n"
     ]
    }
   ],
   "source": [
    "# Delete all best_seller data.\n",
    "# \n",
    "ref = db.reference(\"/Books/Best_Sellers/\")\n",
    "best_sellers = ref.get()\n",
    "print(best_sellers)\n",
    "print(type(best_sellers))"
   ]
  },
  {
   "cell_type": "code",
   "execution_count": null,
   "metadata": {},
   "outputs": [],
   "source": []
  }
 ],
 "metadata": {
  "kernelspec": {
   "display_name": "Python 3 (ipykernel)",
   "language": "python",
   "name": "python3"
  },
  "language_info": {
   "codemirror_mode": {
    "name": "ipython",
    "version": 3
   },
   "file_extension": ".py",
   "mimetype": "text/x-python",
   "name": "python",
   "nbconvert_exporter": "python",
   "pygments_lexer": "ipython3",
   "version": "3.11.7"
  }
 },
 "nbformat": 4,
 "nbformat_minor": 4
}
