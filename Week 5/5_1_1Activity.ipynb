{
 "cells": [
  {
   "cell_type": "code",
   "execution_count": 6,
   "id": "6621e851-43e4-42d6-99c4-9df47a4f4b42",
   "metadata": {},
   "outputs": [
    {
     "name": "stdout",
     "output_type": "stream",
     "text": [
      "Data successfully pushed to Firebase\n"
     ]
    }
   ],
   "source": [
    "import random\n",
    "import time\n",
    "import firebase_admin\n",
    "from firebase_admin import credentials, db\n",
    "\n",
    "# Initialize Firebase Admin SDK with the correct certificate path\n",
    "cred_obj = firebase_admin.credentials.Certificate(\n",
    "    r'C:\\Users\\ramma\\Downloads\\sit225-ri-firebase-adminsdk-octoc-af69f7a7ab.json'\n",
    ")\n",
    "\n",
    "# Initialize Firebase app (ensure only one initialization)\n",
    "if not firebase_admin._apps:\n",
    "    default_app = firebase_admin.initialize_app(cred_obj, {\n",
    "        'databaseURL': 'https://sit225-ri-default-rtdb.firebaseio.com/'\n",
    "    })\n",
    "\n",
    "# Generate random data for DHT22 sensor\n",
    "dht_data = {\n",
    "    \"sensor_name\": \"DHT22\",\n",
    "    \"timestamp\": time.strftime('%Y-%m-%d %H:%M:%S'),\n",
    "    \"temperature\": round(random.uniform(20, 30), 2),\n",
    "    \"humidity\": random.randint(40, 70)\n",
    "}\n",
    "\n",
    "# Push DHT22 data to Firebase\n",
    "ref = db.reference(\"/DHT22_data\")\n",
    "ref.push(dht_data)\n",
    "\n",
    "# Generate random data for SR04 sensor (Ultrasonic sensor)\n",
    "sr04_data = {\n",
    "    \"sensor_name\": \"SR04\",\n",
    "    \"timestamp\": time.strftime('%Y-%m-%d %H:%M:%S'),\n",
    "    \"distance\": random.randint(100, 200)\n",
    "}\n",
    "\n",
    "# Push SR04 data to Firebase\n",
    "ref = db.reference(\"/SR04_data\")\n",
    "ref.push(sr04_data)"
   ]
  },
  {
   "cell_type": "code",
   "execution_count": null,
   "id": "4c4ad398-ef1a-4067-900e-fbeaaad3338f",
   "metadata": {},
   "outputs": [],
   "source": []
  }
 ],
 "metadata": {
  "kernelspec": {
   "display_name": "Python 3 (ipykernel)",
   "language": "python",
   "name": "python3"
  },
  "language_info": {
   "codemirror_mode": {
    "name": "ipython",
    "version": 3
   },
   "file_extension": ".py",
   "mimetype": "text/x-python",
   "name": "python",
   "nbconvert_exporter": "python",
   "pygments_lexer": "ipython3",
   "version": "3.11.7"
  }
 },
 "nbformat": 4,
 "nbformat_minor": 5
}
